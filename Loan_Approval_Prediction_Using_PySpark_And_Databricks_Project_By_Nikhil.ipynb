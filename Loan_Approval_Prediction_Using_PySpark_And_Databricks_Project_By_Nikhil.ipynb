{
 "cells": [
  {
   "cell_type": "code",
   "execution_count": 0,
   "metadata": {
    "application/vnd.databricks.v1+cell": {
     "cellMetadata": {
      "byteLimit": 2048000,
      "rowLimit": 10000
     },
     "inputWidgets": {},
     "nuid": "e7d41eea-f29f-48c7-ad9d-bbd0d3fec296",
     "showTitle": true,
     "title": "Project_By_Nikhil"
    }
   },
   "outputs": [],
   "source": [
    "# Importing the necessary modules.\n",
    "from pyspark.sql.functions import *\n",
    "from IPython.core import alias\n",
    "from pyspark.ml.feature import Imputer\n",
    "from pyspark.ml.feature import StringIndexer\n",
    "from pyspark.ml.feature import VectorAssembler\n",
    "from pyspark.ml.classification import LogisticRegression\n",
    "from pyspark.ml import Pipeline\n",
    "from pyspark.ml.evaluation import BinaryClassificationEvaluator,MulticlassClassificationEvaluator\n",
    "import matplotlib.pyplot as plt"
   ]
  },
  {
   "cell_type": "code",
   "execution_count": 0,
   "metadata": {
    "application/vnd.databricks.v1+cell": {
     "cellMetadata": {
      "byteLimit": 2048000,
      "rowLimit": 10000
     },
     "inputWidgets": {},
     "nuid": "a0342655-609e-40f9-b017-7535c160a990",
     "showTitle": false,
     "title": ""
    }
   },
   "outputs": [
    {
     "output_type": "display_data",
     "data": {
      "text/html": [
       "\n",
       "            <div>\n",
       "                <p><b>SparkSession - hive</b></p>\n",
       "                \n",
       "        <div>\n",
       "            <p><b>SparkContext</b></p>\n",
       "\n",
       "            <p><a href=\"/?o=1999355213771322#setting/sparkui/1008-195025-bkyrcixv/driver-4368071544601491866\">Spark UI</a></p>\n",
       "\n",
       "            <dl>\n",
       "              <dt>Version</dt>\n",
       "                <dd><code>v3.3.2</code></dd>\n",
       "              <dt>Master</dt>\n",
       "                <dd><code>local[8]</code></dd>\n",
       "              <dt>AppName</dt>\n",
       "                <dd><code>Databricks Shell</code></dd>\n",
       "            </dl>\n",
       "        </div>\n",
       "        \n",
       "            </div>\n",
       "        "
      ]
     },
     "metadata": {
      "application/vnd.databricks.v1+output": {
       "addedWidgets": {},
       "arguments": {},
       "data": "\n            <div>\n                <p><b>SparkSession - hive</b></p>\n                \n        <div>\n            <p><b>SparkContext</b></p>\n\n            <p><a href=\"/?o=1999355213771322#setting/sparkui/1008-195025-bkyrcixv/driver-4368071544601491866\">Spark UI</a></p>\n\n            <dl>\n              <dt>Version</dt>\n                <dd><code>v3.3.2</code></dd>\n              <dt>Master</dt>\n                <dd><code>local[8]</code></dd>\n              <dt>AppName</dt>\n                <dd><code>Databricks Shell</code></dd>\n            </dl>\n        </div>\n        \n            </div>\n        ",
       "datasetInfos": [],
       "metadata": {},
       "removedWidgets": [],
       "textData": null,
       "type": "htmlSandbox"
      }
     },
     "output_type": "display_data"
    }
   ],
   "source": [
    "# checking the spark session.\n",
    "spark"
   ]
  },
  {
   "cell_type": "code",
   "execution_count": 0,
   "metadata": {
    "application/vnd.databricks.v1+cell": {
     "cellMetadata": {
      "byteLimit": 2048000,
      "rowLimit": 10000
     },
     "inputWidgets": {},
     "nuid": "ac8efd80-873b-4b06-8469-0452582215f9",
     "showTitle": false,
     "title": ""
    }
   },
   "outputs": [],
   "source": [
    "# reading the dataset into the dataframe.\n",
    "df=spark.read.csv('/FileStore/tables/Copy_of_loan.csv',header=True,inferSchema=True)"
   ]
  },
  {
   "cell_type": "code",
   "execution_count": 0,
   "metadata": {
    "application/vnd.databricks.v1+cell": {
     "cellMetadata": {
      "byteLimit": 2048000,
      "rowLimit": 10000
     },
     "inputWidgets": {},
     "nuid": "43bc5310-aa5a-4ccc-9178-b1aafa29a190",
     "showTitle": false,
     "title": ""
    }
   },
   "outputs": [
    {
     "output_type": "stream",
     "name": "stdout",
     "output_type": "stream",
     "text": [
      "+--------+------+-------+----------+------------+-------------+---------------+-----------------+----------+----------------+--------------+-------------+-----------+\n| Loan_ID|Gender|Married|Dependents|   Education|Self_Employed|ApplicantIncome|CoapplicantIncome|LoanAmount|Loan_Amount_Term|Credit_History|Property_Area|Loan_Status|\n+--------+------+-------+----------+------------+-------------+---------------+-----------------+----------+----------------+--------------+-------------+-----------+\n|LP001002|  Male|     No|         0|    Graduate|           No|           5849|              0.0|      null|             360|             1|        Urban|          Y|\n|LP001003|  Male|    Yes|         1|    Graduate|           No|           4583|           1508.0|       128|             360|             1|        Rural|          N|\n|LP001005|  Male|    Yes|         0|    Graduate|          Yes|           3000|              0.0|        66|             360|             1|        Urban|          Y|\n|LP001006|  Male|    Yes|         0|Not Graduate|           No|           2583|           2358.0|       120|             360|             1|        Urban|          Y|\n|LP001008|  Male|     No|         0|    Graduate|           No|           6000|              0.0|       141|             360|             1|        Urban|          Y|\n|LP001011|  Male|    Yes|         2|    Graduate|          Yes|           5417|           4196.0|       267|             360|             1|        Urban|          Y|\n|LP001013|  Male|    Yes|         0|Not Graduate|           No|           2333|           1516.0|        95|             360|             1|        Urban|          Y|\n|LP001014|  Male|    Yes|        3+|    Graduate|           No|           3036|           2504.0|       158|             360|             0|    Semiurban|          N|\n|LP001018|  Male|    Yes|         2|    Graduate|           No|           4006|           1526.0|       168|             360|             1|        Urban|          Y|\n|LP001020|  Male|    Yes|         1|    Graduate|           No|          12841|          10968.0|       349|             360|             1|    Semiurban|          N|\n|LP001024|  Male|    Yes|         2|    Graduate|           No|           3200|            700.0|        70|             360|             1|        Urban|          Y|\n|LP001027|  Male|    Yes|         2|    Graduate|         null|           2500|           1840.0|       109|             360|             1|        Urban|          Y|\n|LP001028|  Male|    Yes|         2|    Graduate|           No|           3073|           8106.0|       200|             360|             1|        Urban|          Y|\n|LP001029|  Male|     No|         0|    Graduate|           No|           1853|           2840.0|       114|             360|             1|        Rural|          N|\n|LP001030|  Male|    Yes|         2|    Graduate|           No|           1299|           1086.0|        17|             120|             1|        Urban|          Y|\n|LP001032|  Male|     No|         0|    Graduate|           No|           4950|              0.0|       125|             360|             1|        Urban|          Y|\n|LP001034|  Male|     No|         1|Not Graduate|           No|           3596|              0.0|       100|             240|          null|        Urban|          Y|\n|LP001036|Female|     No|         0|    Graduate|           No|           3510|              0.0|        76|             360|             0|        Urban|          N|\n|LP001038|  Male|    Yes|         0|Not Graduate|           No|           4887|              0.0|       133|             360|             1|        Rural|          N|\n|LP001041|  Male|    Yes|         0|    Graduate|         null|           2600|           3500.0|       115|            null|             1|        Urban|          Y|\n+--------+------+-------+----------+------------+-------------+---------------+-----------------+----------+----------------+--------------+-------------+-----------+\nonly showing top 20 rows\n\n"
     ]
    }
   ],
   "source": [
    "# viewing the dataframe.\n",
    "df.show()"
   ]
  },
  {
   "cell_type": "code",
   "execution_count": 0,
   "metadata": {
    "application/vnd.databricks.v1+cell": {
     "cellMetadata": {
      "byteLimit": 2048000,
      "rowLimit": 10000
     },
     "inputWidgets": {},
     "nuid": "f47ef1be-611e-475b-9aa4-004a4f0c7901",
     "showTitle": false,
     "title": ""
    }
   },
   "outputs": [],
   "source": [
    "# eliminating non necessary rows.\n",
    "df=df.where(df['Dependents']!='3+')"
   ]
  },
  {
   "cell_type": "code",
   "execution_count": 0,
   "metadata": {
    "application/vnd.databricks.v1+cell": {
     "cellMetadata": {
      "byteLimit": 2048000,
      "rowLimit": 10000
     },
     "inputWidgets": {},
     "nuid": "b5a4adf9-838a-4520-8e91-3a21b04cb0aa",
     "showTitle": false,
     "title": ""
    }
   },
   "outputs": [
    {
     "output_type": "stream",
     "name": "stdout",
     "output_type": "stream",
     "text": [
      "+--------+------+-------+----------+------------+-------------+---------------+-----------------+----------+----------------+--------------+-------------+-----------+\n| Loan_ID|Gender|Married|Dependents|   Education|Self_Employed|ApplicantIncome|CoapplicantIncome|LoanAmount|Loan_Amount_Term|Credit_History|Property_Area|Loan_Status|\n+--------+------+-------+----------+------------+-------------+---------------+-----------------+----------+----------------+--------------+-------------+-----------+\n|LP001002|  Male|     No|         0|    Graduate|           No|           5849|              0.0|      null|             360|             1|        Urban|          Y|\n|LP001003|  Male|    Yes|         1|    Graduate|           No|           4583|           1508.0|       128|             360|             1|        Rural|          N|\n|LP001005|  Male|    Yes|         0|    Graduate|          Yes|           3000|              0.0|        66|             360|             1|        Urban|          Y|\n|LP001006|  Male|    Yes|         0|Not Graduate|           No|           2583|           2358.0|       120|             360|             1|        Urban|          Y|\n|LP001008|  Male|     No|         0|    Graduate|           No|           6000|              0.0|       141|             360|             1|        Urban|          Y|\n|LP001011|  Male|    Yes|         2|    Graduate|          Yes|           5417|           4196.0|       267|             360|             1|        Urban|          Y|\n|LP001013|  Male|    Yes|         0|Not Graduate|           No|           2333|           1516.0|        95|             360|             1|        Urban|          Y|\n|LP001018|  Male|    Yes|         2|    Graduate|           No|           4006|           1526.0|       168|             360|             1|        Urban|          Y|\n|LP001020|  Male|    Yes|         1|    Graduate|           No|          12841|          10968.0|       349|             360|             1|    Semiurban|          N|\n|LP001024|  Male|    Yes|         2|    Graduate|           No|           3200|            700.0|        70|             360|             1|        Urban|          Y|\n|LP001027|  Male|    Yes|         2|    Graduate|         null|           2500|           1840.0|       109|             360|             1|        Urban|          Y|\n|LP001028|  Male|    Yes|         2|    Graduate|           No|           3073|           8106.0|       200|             360|             1|        Urban|          Y|\n|LP001029|  Male|     No|         0|    Graduate|           No|           1853|           2840.0|       114|             360|             1|        Rural|          N|\n|LP001030|  Male|    Yes|         2|    Graduate|           No|           1299|           1086.0|        17|             120|             1|        Urban|          Y|\n|LP001032|  Male|     No|         0|    Graduate|           No|           4950|              0.0|       125|             360|             1|        Urban|          Y|\n|LP001034|  Male|     No|         1|Not Graduate|           No|           3596|              0.0|       100|             240|          null|        Urban|          Y|\n|LP001036|Female|     No|         0|    Graduate|           No|           3510|              0.0|        76|             360|             0|        Urban|          N|\n|LP001038|  Male|    Yes|         0|Not Graduate|           No|           4887|              0.0|       133|             360|             1|        Rural|          N|\n|LP001041|  Male|    Yes|         0|    Graduate|         null|           2600|           3500.0|       115|            null|             1|        Urban|          Y|\n|LP001043|  Male|    Yes|         0|Not Graduate|           No|           7660|              0.0|       104|             360|             0|        Urban|          N|\n+--------+------+-------+----------+------------+-------------+---------------+-----------------+----------+----------------+--------------+-------------+-----------+\nonly showing top 20 rows\n\n"
     ]
    }
   ],
   "source": [
    "# viewing the dataframe.\n",
    "df.show()"
   ]
  },
  {
   "cell_type": "code",
   "execution_count": 0,
   "metadata": {
    "application/vnd.databricks.v1+cell": {
     "cellMetadata": {
      "byteLimit": 2048000,
      "rowLimit": 10000
     },
     "inputWidgets": {},
     "nuid": "a58f31ff-b552-473a-a6d3-13b9e6ecb789",
     "showTitle": false,
     "title": ""
    }
   },
   "outputs": [
    {
     "output_type": "stream",
     "name": "stdout",
     "output_type": "stream",
     "text": [
      "Out[6]: 548"
     ]
    }
   ],
   "source": [
    "# counting the total number of rows.\n",
    "df.count()"
   ]
  },
  {
   "cell_type": "code",
   "execution_count": 0,
   "metadata": {
    "application/vnd.databricks.v1+cell": {
     "cellMetadata": {
      "byteLimit": 2048000,
      "rowLimit": 10000
     },
     "inputWidgets": {},
     "nuid": "8e34e0c3-0d78-430c-826f-cebcef077d9b",
     "showTitle": false,
     "title": ""
    }
   },
   "outputs": [
    {
     "output_type": "stream",
     "name": "stdout",
     "output_type": "stream",
     "text": [
      "+----------+------------+---------------+-----------------+----------+----------------+--------------+-----------+\n|Dependents|   Education|ApplicantIncome|CoapplicantIncome|LoanAmount|Loan_Amount_Term|Credit_History|Loan_Status|\n+----------+------------+---------------+-----------------+----------+----------------+--------------+-----------+\n|         0|    Graduate|           5849|              0.0|      null|             360|             1|          Y|\n|         1|    Graduate|           4583|           1508.0|       128|             360|             1|          N|\n|         0|    Graduate|           3000|              0.0|        66|             360|             1|          Y|\n|         0|Not Graduate|           2583|           2358.0|       120|             360|             1|          Y|\n|         0|    Graduate|           6000|              0.0|       141|             360|             1|          Y|\n|         2|    Graduate|           5417|           4196.0|       267|             360|             1|          Y|\n|         0|Not Graduate|           2333|           1516.0|        95|             360|             1|          Y|\n|         2|    Graduate|           4006|           1526.0|       168|             360|             1|          Y|\n|         1|    Graduate|          12841|          10968.0|       349|             360|             1|          N|\n|         2|    Graduate|           3200|            700.0|        70|             360|             1|          Y|\n|         2|    Graduate|           2500|           1840.0|       109|             360|             1|          Y|\n|         2|    Graduate|           3073|           8106.0|       200|             360|             1|          Y|\n|         0|    Graduate|           1853|           2840.0|       114|             360|             1|          N|\n|         2|    Graduate|           1299|           1086.0|        17|             120|             1|          Y|\n|         0|    Graduate|           4950|              0.0|       125|             360|             1|          Y|\n|         1|Not Graduate|           3596|              0.0|       100|             240|          null|          Y|\n|         0|    Graduate|           3510|              0.0|        76|             360|             0|          N|\n|         0|Not Graduate|           4887|              0.0|       133|             360|             1|          N|\n|         0|    Graduate|           2600|           3500.0|       115|            null|             1|          Y|\n|         0|Not Graduate|           7660|              0.0|       104|             360|             0|          N|\n+----------+------------+---------------+-----------------+----------+----------------+--------------+-----------+\nonly showing top 20 rows\n\n"
     ]
    }
   ],
   "source": [
    "# droping the not so important columns.\n",
    "df=df.drop(*['Loan_ID','Gender','Married','Self_Employed','Property_Area'])\n",
    "df.show()"
   ]
  },
  {
   "cell_type": "code",
   "execution_count": 0,
   "metadata": {
    "application/vnd.databricks.v1+cell": {
     "cellMetadata": {
      "byteLimit": 2048000,
      "rowLimit": 10000
     },
     "inputWidgets": {},
     "nuid": "66bd071e-7b07-4064-8bf0-aab8d5d96faf",
     "showTitle": false,
     "title": ""
    }
   },
   "outputs": [
    {
     "output_type": "stream",
     "name": "stdout",
     "output_type": "stream",
     "text": [
      "Out[8]: [('Dependents', 'string'),\n ('Education', 'string'),\n ('ApplicantIncome', 'int'),\n ('CoapplicantIncome', 'double'),\n ('LoanAmount', 'int'),\n ('Loan_Amount_Term', 'int'),\n ('Credit_History', 'int'),\n ('Loan_Status', 'string')]"
     ]
    }
   ],
   "source": [
    "# checking the datatypes of the columns.\n",
    "df.dtypes\n"
   ]
  },
  {
   "cell_type": "code",
   "execution_count": 0,
   "metadata": {
    "application/vnd.databricks.v1+cell": {
     "cellMetadata": {
      "byteLimit": 2048000,
      "rowLimit": 10000
     },
     "inputWidgets": {},
     "nuid": "b2f968aa-1382-4fdb-9e18-b9c03e5a9a51",
     "showTitle": false,
     "title": ""
    }
   },
   "outputs": [],
   "source": [
    "# casting the datatype of the columns.\n",
    "df=df.withColumn('Dependents',df.Dependents.cast('int'))\n",
    "df=df.withColumn('LoanAmount ',df.LoanAmount.cast('double'))"
   ]
  },
  {
   "cell_type": "code",
   "execution_count": 0,
   "metadata": {
    "application/vnd.databricks.v1+cell": {
     "cellMetadata": {
      "byteLimit": 2048000,
      "rowLimit": 10000
     },
     "inputWidgets": {},
     "nuid": "41b1d227-2c5a-4d9e-987b-e2c612144187",
     "showTitle": false,
     "title": ""
    }
   },
   "outputs": [
    {
     "output_type": "stream",
     "name": "stdout",
     "output_type": "stream",
     "text": [
      "Out[10]: [('Dependents', 'int'),\n ('Education', 'string'),\n ('ApplicantIncome', 'int'),\n ('CoapplicantIncome', 'double'),\n ('LoanAmount', 'int'),\n ('Loan_Amount_Term', 'int'),\n ('Credit_History', 'int'),\n ('Loan_Status', 'string'),\n ('LoanAmount ', 'double')]"
     ]
    }
   ],
   "source": [
    "# checking the datatypes of the columns.\n",
    "df.dtypes"
   ]
  },
  {
   "cell_type": "code",
   "execution_count": 0,
   "metadata": {
    "application/vnd.databricks.v1+cell": {
     "cellMetadata": {
      "byteLimit": 2048000,
      "rowLimit": 10000
     },
     "inputWidgets": {},
     "nuid": "e5e64d2e-e118-40c2-95c7-0e2ae1f0d84c",
     "showTitle": false,
     "title": ""
    }
   },
   "outputs": [
    {
     "output_type": "stream",
     "name": "stdout",
     "output_type": "stream",
     "text": [
      "+----------+---------+---------------+-----------------+----------+----------------+--------------+-----------+-----------+\n|Dependents|Education|ApplicantIncome|CoapplicantIncome|LoanAmount|Loan_Amount_Term|Credit_History|Loan_Status|LoanAmount |\n+----------+---------+---------------+-----------------+----------+----------------+--------------+-----------+-----------+\n|         0|        0|              0|                0|        18|              12|            47|          0|         18|\n+----------+---------+---------------+-----------------+----------+----------------+--------------+-----------+-----------+\n\n"
     ]
    }
   ],
   "source": [
    "# checking the null values.\n",
    "df.select([count(when(isnan(c) | col(c).isNull(), c)).alias(c) for c in df.columns]).show()"
   ]
  },
  {
   "cell_type": "code",
   "execution_count": 0,
   "metadata": {
    "application/vnd.databricks.v1+cell": {
     "cellMetadata": {
      "byteLimit": 2048000,
      "rowLimit": 10000
     },
     "inputWidgets": {},
     "nuid": "751da7fd-c035-4527-b8e3-7483acd9e2b1",
     "showTitle": false,
     "title": ""
    }
   },
   "outputs": [],
   "source": [
    "# objectizing the Imputer.\n",
    "imputer_mode=Imputer(strategy='mode')\n",
    "imputer_mean=Imputer(strategy='mean')"
   ]
  },
  {
   "cell_type": "code",
   "execution_count": 0,
   "metadata": {
    "application/vnd.databricks.v1+cell": {
     "cellMetadata": {
      "byteLimit": 2048000,
      "rowLimit": 10000
     },
     "inputWidgets": {},
     "nuid": "6a860769-d2eb-4acf-a38f-f4e6dccdcd9d",
     "showTitle": false,
     "title": ""
    }
   },
   "outputs": [
    {
     "output_type": "stream",
     "name": "stdout",
     "output_type": "stream",
     "text": [
      "Out[17]: Imputer_0882492d2166"
     ]
    }
   ],
   "source": [
    "# setting the input columns.\n",
    "imputer_mode.setInputCols(['Loan_Amount_Term','Credit_History'])\n",
    "imputer_mean.setInputCol('LoanAmount')"
   ]
  },
  {
   "cell_type": "code",
   "execution_count": 0,
   "metadata": {
    "application/vnd.databricks.v1+cell": {
     "cellMetadata": {
      "byteLimit": 2048000,
      "rowLimit": 10000
     },
     "inputWidgets": {},
     "nuid": "3c0ac992-480e-43a0-9464-267f884a42bd",
     "showTitle": false,
     "title": ""
    }
   },
   "outputs": [
    {
     "output_type": "stream",
     "name": "stdout",
     "output_type": "stream",
     "text": [
      "Out[18]: Imputer_0882492d2166"
     ]
    }
   ],
   "source": [
    "# setting the output columns.\n",
    "imputer_mode.setOutputCols(['Loan_Amount_Term_filled','Credit_History_filled'])\n",
    "imputer_mean.setOutputCol('LoanAmount_filled')"
   ]
  },
  {
   "cell_type": "code",
   "execution_count": 0,
   "metadata": {
    "application/vnd.databricks.v1+cell": {
     "cellMetadata": {
      "byteLimit": 2048000,
      "rowLimit": 10000
     },
     "inputWidgets": {},
     "nuid": "3b04ae8f-40a1-478a-86cf-d552f81b53e2",
     "showTitle": false,
     "title": ""
    }
   },
   "outputs": [],
   "source": [
    "# fitting the model.\n",
    "model_mode=imputer_mode.fit(df)\n",
    "model_mean=imputer_mean.fit(df)"
   ]
  },
  {
   "cell_type": "code",
   "execution_count": 0,
   "metadata": {
    "application/vnd.databricks.v1+cell": {
     "cellMetadata": {
      "byteLimit": 2048000,
      "rowLimit": 10000
     },
     "inputWidgets": {},
     "nuid": "e2b6d20a-c5e1-4cb4-bdc4-3fb93369b670",
     "showTitle": false,
     "title": ""
    }
   },
   "outputs": [],
   "source": [
    "# transforming the model.\n",
    "df=model_mode.transform(df)"
   ]
  },
  {
   "cell_type": "code",
   "execution_count": 0,
   "metadata": {
    "application/vnd.databricks.v1+cell": {
     "cellMetadata": {
      "byteLimit": 2048000,
      "rowLimit": 10000
     },
     "inputWidgets": {},
     "nuid": "e1a5e0ef-ec93-4446-b7aa-1c1b735fe52b",
     "showTitle": false,
     "title": ""
    }
   },
   "outputs": [],
   "source": [
    "# transforming the model.\n",
    "df=model_mean.transform(df)"
   ]
  },
  {
   "cell_type": "code",
   "execution_count": 0,
   "metadata": {
    "application/vnd.databricks.v1+cell": {
     "cellMetadata": {
      "byteLimit": 2048000,
      "rowLimit": 10000
     },
     "inputWidgets": {},
     "nuid": "cd5fdf57-4648-48a5-97e1-040d6ce7c72c",
     "showTitle": false,
     "title": ""
    }
   },
   "outputs": [
    {
     "output_type": "stream",
     "name": "stdout",
     "output_type": "stream",
     "text": [
      "+----------+------------+---------------+-----------------+----------+----------------+--------------+-----------+-----------+-----------------------+---------------------+-----------------+\n|Dependents|   Education|ApplicantIncome|CoapplicantIncome|LoanAmount|Loan_Amount_Term|Credit_History|Loan_Status|LoanAmount |Loan_Amount_Term_filled|Credit_History_filled|LoanAmount_filled|\n+----------+------------+---------------+-----------------+----------+----------------+--------------+-----------+-----------+-----------------------+---------------------+-----------------+\n|         0|    Graduate|           5849|              0.0|      null|             360|             1|          Y|       null|                    360|                    1|              142|\n|         1|    Graduate|           4583|           1508.0|       128|             360|             1|          N|      128.0|                    360|                    1|              128|\n|         0|    Graduate|           3000|              0.0|        66|             360|             1|          Y|       66.0|                    360|                    1|               66|\n|         0|Not Graduate|           2583|           2358.0|       120|             360|             1|          Y|      120.0|                    360|                    1|              120|\n|         0|    Graduate|           6000|              0.0|       141|             360|             1|          Y|      141.0|                    360|                    1|              141|\n|         2|    Graduate|           5417|           4196.0|       267|             360|             1|          Y|      267.0|                    360|                    1|              267|\n|         0|Not Graduate|           2333|           1516.0|        95|             360|             1|          Y|       95.0|                    360|                    1|               95|\n|         2|    Graduate|           4006|           1526.0|       168|             360|             1|          Y|      168.0|                    360|                    1|              168|\n|         1|    Graduate|          12841|          10968.0|       349|             360|             1|          N|      349.0|                    360|                    1|              349|\n|         2|    Graduate|           3200|            700.0|        70|             360|             1|          Y|       70.0|                    360|                    1|               70|\n|         2|    Graduate|           2500|           1840.0|       109|             360|             1|          Y|      109.0|                    360|                    1|              109|\n|         2|    Graduate|           3073|           8106.0|       200|             360|             1|          Y|      200.0|                    360|                    1|              200|\n|         0|    Graduate|           1853|           2840.0|       114|             360|             1|          N|      114.0|                    360|                    1|              114|\n|         2|    Graduate|           1299|           1086.0|        17|             120|             1|          Y|       17.0|                    120|                    1|               17|\n|         0|    Graduate|           4950|              0.0|       125|             360|             1|          Y|      125.0|                    360|                    1|              125|\n|         1|Not Graduate|           3596|              0.0|       100|             240|          null|          Y|      100.0|                    240|                    1|              100|\n|         0|    Graduate|           3510|              0.0|        76|             360|             0|          N|       76.0|                    360|                    0|               76|\n|         0|Not Graduate|           4887|              0.0|       133|             360|             1|          N|      133.0|                    360|                    1|              133|\n|         0|    Graduate|           2600|           3500.0|       115|            null|             1|          Y|      115.0|                    360|                    1|              115|\n|         0|Not Graduate|           7660|              0.0|       104|             360|             0|          N|      104.0|                    360|                    0|              104|\n+----------+------------+---------------+-----------------+----------+----------------+--------------+-----------+-----------+-----------------------+---------------------+-----------------+\nonly showing top 20 rows\n\n"
     ]
    }
   ],
   "source": [
    "# viewing the dataframe.\n",
    "df.show()\n"
   ]
  },
  {
   "cell_type": "code",
   "execution_count": 0,
   "metadata": {
    "application/vnd.databricks.v1+cell": {
     "cellMetadata": {
      "byteLimit": 2048000,
      "rowLimit": 10000
     },
     "inputWidgets": {},
     "nuid": "32b4e032-1ee5-4a08-a7f0-8d6a3932296f",
     "showTitle": false,
     "title": ""
    }
   },
   "outputs": [],
   "source": [
    "# droping the un-necessary columns.\n",
    "df=df.drop(*['LoanAmount ','Loan_Amount_Term','Credit_History'])"
   ]
  },
  {
   "cell_type": "code",
   "execution_count": 0,
   "metadata": {
    "application/vnd.databricks.v1+cell": {
     "cellMetadata": {
      "byteLimit": 2048000,
      "rowLimit": 10000
     },
     "inputWidgets": {},
     "nuid": "ee5d0bbe-5a72-47fd-8b67-4e44dc747760",
     "showTitle": false,
     "title": ""
    }
   },
   "outputs": [
    {
     "output_type": "stream",
     "name": "stdout",
     "output_type": "stream",
     "text": [
      "+----------+------------+---------------+-----------------+----------+-----------+-----------------------+---------------------+-----------------+\n|Dependents|   Education|ApplicantIncome|CoapplicantIncome|LoanAmount|Loan_Status|Loan_Amount_Term_filled|Credit_History_filled|LoanAmount_filled|\n+----------+------------+---------------+-----------------+----------+-----------+-----------------------+---------------------+-----------------+\n|         0|    Graduate|           5849|              0.0|      null|          Y|                    360|                    1|              142|\n|         1|    Graduate|           4583|           1508.0|       128|          N|                    360|                    1|              128|\n|         0|    Graduate|           3000|              0.0|        66|          Y|                    360|                    1|               66|\n|         0|Not Graduate|           2583|           2358.0|       120|          Y|                    360|                    1|              120|\n|         0|    Graduate|           6000|              0.0|       141|          Y|                    360|                    1|              141|\n|         2|    Graduate|           5417|           4196.0|       267|          Y|                    360|                    1|              267|\n|         0|Not Graduate|           2333|           1516.0|        95|          Y|                    360|                    1|               95|\n|         2|    Graduate|           4006|           1526.0|       168|          Y|                    360|                    1|              168|\n|         1|    Graduate|          12841|          10968.0|       349|          N|                    360|                    1|              349|\n|         2|    Graduate|           3200|            700.0|        70|          Y|                    360|                    1|               70|\n|         2|    Graduate|           2500|           1840.0|       109|          Y|                    360|                    1|              109|\n|         2|    Graduate|           3073|           8106.0|       200|          Y|                    360|                    1|              200|\n|         0|    Graduate|           1853|           2840.0|       114|          N|                    360|                    1|              114|\n|         2|    Graduate|           1299|           1086.0|        17|          Y|                    120|                    1|               17|\n|         0|    Graduate|           4950|              0.0|       125|          Y|                    360|                    1|              125|\n|         1|Not Graduate|           3596|              0.0|       100|          Y|                    240|                    1|              100|\n|         0|    Graduate|           3510|              0.0|        76|          N|                    360|                    0|               76|\n|         0|Not Graduate|           4887|              0.0|       133|          N|                    360|                    1|              133|\n|         0|    Graduate|           2600|           3500.0|       115|          Y|                    360|                    1|              115|\n|         0|Not Graduate|           7660|              0.0|       104|          N|                    360|                    0|              104|\n+----------+------------+---------------+-----------------+----------+-----------+-----------------------+---------------------+-----------------+\nonly showing top 20 rows\n\n"
     ]
    }
   ],
   "source": [
    "# viewing the dataframe.\n",
    "df.show()"
   ]
  },
  {
   "cell_type": "code",
   "execution_count": 0,
   "metadata": {
    "application/vnd.databricks.v1+cell": {
     "cellMetadata": {
      "byteLimit": 2048000,
      "rowLimit": 10000
     },
     "inputWidgets": {},
     "nuid": "2eca2f36-9228-43d7-b296-f8ce82a2086f",
     "showTitle": false,
     "title": ""
    }
   },
   "outputs": [
    {
     "output_type": "stream",
     "name": "stdout",
     "output_type": "stream",
     "text": [
      "+----------+---------+---------------+-----------------+----------+-----------+-----------------------+---------------------+-----------------+\n|Dependents|Education|ApplicantIncome|CoapplicantIncome|LoanAmount|Loan_Status|Loan_Amount_Term_filled|Credit_History_filled|LoanAmount_filled|\n+----------+---------+---------------+-----------------+----------+-----------+-----------------------+---------------------+-----------------+\n|         0|        0|              0|                0|        18|          0|                      0|                    0|                0|\n+----------+---------+---------------+-----------------+----------+-----------+-----------------------+---------------------+-----------------+\n\n"
     ]
    }
   ],
   "source": [
    "# checking the null values.\n",
    "df.select([count(when(isnan(c) | col(c).isNull(), c)).alias(c) for c in df.columns]).show()"
   ]
  },
  {
   "cell_type": "code",
   "execution_count": 0,
   "metadata": {
    "application/vnd.databricks.v1+cell": {
     "cellMetadata": {
      "byteLimit": 2048000,
      "rowLimit": 10000
     },
     "inputWidgets": {},
     "nuid": "93e11ca6-e1ff-4186-9a1c-8396750d3062",
     "showTitle": false,
     "title": ""
    }
   },
   "outputs": [],
   "source": [
    "# objectizing String indexer.\n",
    "indexer=StringIndexer(inputCols=['Education','Loan_Status'], outputCols=['Education_numeric','Loan_Status_numeric'])"
   ]
  },
  {
   "cell_type": "code",
   "execution_count": 0,
   "metadata": {
    "application/vnd.databricks.v1+cell": {
     "cellMetadata": {
      "byteLimit": 2048000,
      "rowLimit": 10000
     },
     "inputWidgets": {},
     "nuid": "c447f1c9-c065-4273-8861-878c0aa8a120",
     "showTitle": false,
     "title": ""
    }
   },
   "outputs": [],
   "source": [
    "# fitting the model.\n",
    "indexer_model=indexer.fit(df)"
   ]
  },
  {
   "cell_type": "code",
   "execution_count": 0,
   "metadata": {
    "application/vnd.databricks.v1+cell": {
     "cellMetadata": {
      "byteLimit": 2048000,
      "rowLimit": 10000
     },
     "inputWidgets": {},
     "nuid": "263a81fc-3fbc-429d-96f6-0e80f3a5fbd7",
     "showTitle": false,
     "title": ""
    }
   },
   "outputs": [],
   "source": [
    "# transforming the model.\n",
    "df=indexer_model.transform(df)"
   ]
  },
  {
   "cell_type": "code",
   "execution_count": 0,
   "metadata": {
    "application/vnd.databricks.v1+cell": {
     "cellMetadata": {
      "byteLimit": 2048000,
      "rowLimit": 10000
     },
     "inputWidgets": {},
     "nuid": "ccc36fc5-8bd8-4692-a648-10d2f1d2a1a6",
     "showTitle": false,
     "title": ""
    }
   },
   "outputs": [
    {
     "output_type": "stream",
     "name": "stdout",
     "output_type": "stream",
     "text": [
      "+----------+------------+---------------+-----------------+----------+-----------+-----------------------+---------------------+-----------------+-----------------+-------------------+\n|Dependents|   Education|ApplicantIncome|CoapplicantIncome|LoanAmount|Loan_Status|Loan_Amount_Term_filled|Credit_History_filled|LoanAmount_filled|Education_numeric|Loan_Status_numeric|\n+----------+------------+---------------+-----------------+----------+-----------+-----------------------+---------------------+-----------------+-----------------+-------------------+\n|         0|    Graduate|           5849|              0.0|      null|          Y|                    360|                    1|              142|              0.0|                0.0|\n|         1|    Graduate|           4583|           1508.0|       128|          N|                    360|                    1|              128|              0.0|                1.0|\n|         0|    Graduate|           3000|              0.0|        66|          Y|                    360|                    1|               66|              0.0|                0.0|\n|         0|Not Graduate|           2583|           2358.0|       120|          Y|                    360|                    1|              120|              1.0|                0.0|\n|         0|    Graduate|           6000|              0.0|       141|          Y|                    360|                    1|              141|              0.0|                0.0|\n|         2|    Graduate|           5417|           4196.0|       267|          Y|                    360|                    1|              267|              0.0|                0.0|\n|         0|Not Graduate|           2333|           1516.0|        95|          Y|                    360|                    1|               95|              1.0|                0.0|\n|         2|    Graduate|           4006|           1526.0|       168|          Y|                    360|                    1|              168|              0.0|                0.0|\n|         1|    Graduate|          12841|          10968.0|       349|          N|                    360|                    1|              349|              0.0|                1.0|\n|         2|    Graduate|           3200|            700.0|        70|          Y|                    360|                    1|               70|              0.0|                0.0|\n|         2|    Graduate|           2500|           1840.0|       109|          Y|                    360|                    1|              109|              0.0|                0.0|\n|         2|    Graduate|           3073|           8106.0|       200|          Y|                    360|                    1|              200|              0.0|                0.0|\n|         0|    Graduate|           1853|           2840.0|       114|          N|                    360|                    1|              114|              0.0|                1.0|\n|         2|    Graduate|           1299|           1086.0|        17|          Y|                    120|                    1|               17|              0.0|                0.0|\n|         0|    Graduate|           4950|              0.0|       125|          Y|                    360|                    1|              125|              0.0|                0.0|\n|         1|Not Graduate|           3596|              0.0|       100|          Y|                    240|                    1|              100|              1.0|                0.0|\n|         0|    Graduate|           3510|              0.0|        76|          N|                    360|                    0|               76|              0.0|                1.0|\n|         0|Not Graduate|           4887|              0.0|       133|          N|                    360|                    1|              133|              1.0|                1.0|\n|         0|    Graduate|           2600|           3500.0|       115|          Y|                    360|                    1|              115|              0.0|                0.0|\n|         0|Not Graduate|           7660|              0.0|       104|          N|                    360|                    0|              104|              1.0|                1.0|\n+----------+------------+---------------+-----------------+----------+-----------+-----------------------+---------------------+-----------------+-----------------+-------------------+\nonly showing top 20 rows\n\n"
     ]
    }
   ],
   "source": [
    "# viewing the dataframe.\n",
    "df.show()"
   ]
  },
  {
   "cell_type": "code",
   "execution_count": 0,
   "metadata": {
    "application/vnd.databricks.v1+cell": {
     "cellMetadata": {
      "byteLimit": 2048000,
      "rowLimit": 10000
     },
     "inputWidgets": {},
     "nuid": "9c775969-6afa-4864-afe1-4ce1a9dd5775",
     "showTitle": false,
     "title": ""
    }
   },
   "outputs": [],
   "source": [
    "# droping the duplicated old columns.\n",
    "df=df.drop(*['Education','Loan_Status'])"
   ]
  },
  {
   "cell_type": "code",
   "execution_count": 0,
   "metadata": {
    "application/vnd.databricks.v1+cell": {
     "cellMetadata": {
      "byteLimit": 2048000,
      "rowLimit": 10000
     },
     "inputWidgets": {},
     "nuid": "2fddf1e4-7905-4094-afd1-3cc10533d3f1",
     "showTitle": false,
     "title": ""
    }
   },
   "outputs": [
    {
     "output_type": "stream",
     "name": "stdout",
     "output_type": "stream",
     "text": [
      "+----------+---------------+-----------------+----------+-----------------------+---------------------+-----------------+-----------------+-------------------+\n|Dependents|ApplicantIncome|CoapplicantIncome|LoanAmount|Loan_Amount_Term_filled|Credit_History_filled|LoanAmount_filled|Education_numeric|Loan_Status_numeric|\n+----------+---------------+-----------------+----------+-----------------------+---------------------+-----------------+-----------------+-------------------+\n|         0|           5849|              0.0|      null|                    360|                    1|              142|              0.0|                0.0|\n|         1|           4583|           1508.0|       128|                    360|                    1|              128|              0.0|                1.0|\n|         0|           3000|              0.0|        66|                    360|                    1|               66|              0.0|                0.0|\n|         0|           2583|           2358.0|       120|                    360|                    1|              120|              1.0|                0.0|\n|         0|           6000|              0.0|       141|                    360|                    1|              141|              0.0|                0.0|\n|         2|           5417|           4196.0|       267|                    360|                    1|              267|              0.0|                0.0|\n|         0|           2333|           1516.0|        95|                    360|                    1|               95|              1.0|                0.0|\n|         2|           4006|           1526.0|       168|                    360|                    1|              168|              0.0|                0.0|\n|         1|          12841|          10968.0|       349|                    360|                    1|              349|              0.0|                1.0|\n|         2|           3200|            700.0|        70|                    360|                    1|               70|              0.0|                0.0|\n|         2|           2500|           1840.0|       109|                    360|                    1|              109|              0.0|                0.0|\n|         2|           3073|           8106.0|       200|                    360|                    1|              200|              0.0|                0.0|\n|         0|           1853|           2840.0|       114|                    360|                    1|              114|              0.0|                1.0|\n|         2|           1299|           1086.0|        17|                    120|                    1|               17|              0.0|                0.0|\n|         0|           4950|              0.0|       125|                    360|                    1|              125|              0.0|                0.0|\n|         1|           3596|              0.0|       100|                    240|                    1|              100|              1.0|                0.0|\n|         0|           3510|              0.0|        76|                    360|                    0|               76|              0.0|                1.0|\n|         0|           4887|              0.0|       133|                    360|                    1|              133|              1.0|                1.0|\n|         0|           2600|           3500.0|       115|                    360|                    1|              115|              0.0|                0.0|\n|         0|           7660|              0.0|       104|                    360|                    0|              104|              1.0|                1.0|\n+----------+---------------+-----------------+----------+-----------------------+---------------------+-----------------+-----------------+-------------------+\nonly showing top 20 rows\n\n"
     ]
    }
   ],
   "source": [
    "# viewing the dataframe.\n",
    "df.show()"
   ]
  },
  {
   "cell_type": "code",
   "execution_count": 0,
   "metadata": {
    "application/vnd.databricks.v1+cell": {
     "cellMetadata": {
      "byteLimit": 2048000,
      "rowLimit": 10000
     },
     "inputWidgets": {},
     "nuid": "a7b56a01-6ff5-4eb2-b735-595f9f419805",
     "showTitle": false,
     "title": ""
    }
   },
   "outputs": [
    {
     "output_type": "stream",
     "name": "stdout",
     "output_type": "stream",
     "text": [
      "Out[33]: [('Dependents', 'int'),\n ('ApplicantIncome', 'int'),\n ('CoapplicantIncome', 'double'),\n ('LoanAmount', 'int'),\n ('Loan_Amount_Term_filled', 'int'),\n ('Credit_History_filled', 'int'),\n ('LoanAmount_filled', 'int'),\n ('Education_numeric', 'double'),\n ('Loan_Status_numeric', 'double')]"
     ]
    }
   ],
   "source": [
    "# checking the datatypes of all the columns.\n",
    "df.dtypes"
   ]
  },
  {
   "cell_type": "code",
   "execution_count": 0,
   "metadata": {
    "application/vnd.databricks.v1+cell": {
     "cellMetadata": {
      "byteLimit": 2048000,
      "rowLimit": 10000
     },
     "inputWidgets": {},
     "nuid": "48b979f8-4198-4e1a-a16b-777fa07b06f4",
     "showTitle": false,
     "title": ""
    }
   },
   "outputs": [],
   "source": [
    "# changing the datatype of the columns.\n",
    "df=df.withColumn('CoapplicantIncome',df.CoapplicantIncome.cast('int'))\n",
    "df=df.withColumn('Education_numeric',df.Education_numeric.cast('int'))\n",
    "df=df.withColumn('Loan_Status_numeric',df.Loan_Status_numeric.cast('int'))"
   ]
  },
  {
   "cell_type": "code",
   "execution_count": 0,
   "metadata": {
    "application/vnd.databricks.v1+cell": {
     "cellMetadata": {
      "byteLimit": 2048000,
      "rowLimit": 10000
     },
     "inputWidgets": {},
     "nuid": "ae92f552-8c18-4b55-b7af-90e0bcc7c24b",
     "showTitle": false,
     "title": ""
    }
   },
   "outputs": [
    {
     "output_type": "stream",
     "name": "stdout",
     "output_type": "stream",
     "text": [
      "Out[35]: [('Dependents', 'int'),\n ('ApplicantIncome', 'int'),\n ('CoapplicantIncome', 'int'),\n ('LoanAmount', 'int'),\n ('Loan_Amount_Term_filled', 'int'),\n ('Credit_History_filled', 'int'),\n ('LoanAmount_filled', 'int'),\n ('Education_numeric', 'int'),\n ('Loan_Status_numeric', 'int')]"
     ]
    }
   ],
   "source": [
    "# Checking the datatypes of the column\n",
    "df.dtypes"
   ]
  },
  {
   "cell_type": "code",
   "execution_count": 0,
   "metadata": {
    "application/vnd.databricks.v1+cell": {
     "cellMetadata": {
      "byteLimit": 2048000,
      "rowLimit": 10000
     },
     "inputWidgets": {},
     "nuid": "f9bc88b3-e56d-45a7-887d-b16d4f1f0cae",
     "showTitle": false,
     "title": ""
    }
   },
   "outputs": [],
   "source": [
    "# objectizing the VectorAssembler.\n",
    "vec=VectorAssembler(outputCol=\"features\")"
   ]
  },
  {
   "cell_type": "code",
   "execution_count": 0,
   "metadata": {
    "application/vnd.databricks.v1+cell": {
     "cellMetadata": {
      "byteLimit": 2048000,
      "rowLimit": 10000
     },
     "inputWidgets": {},
     "nuid": "374a5c9b-bc4a-41e8-aebd-01aed0fe1369",
     "showTitle": false,
     "title": ""
    }
   },
   "outputs": [
    {
     "output_type": "stream",
     "name": "stdout",
     "output_type": "stream",
     "text": [
      "Out[38]: VectorAssembler_f0be35c2ee1e"
     ]
    }
   ],
   "source": [
    "# setting the input columns.\n",
    "vec.setInputCols([\"Dependents\",\"ApplicantIncome\",\"CoapplicantIncome\",\"LoanAmount\",\n",
    "                    \"Loan_Amount_Term_filled\",\"Credit_History_filled\",\n",
    "                    \"LoanAmount_filled\",\"Education_numeric\"])"
   ]
  },
  {
   "cell_type": "code",
   "execution_count": 0,
   "metadata": {
    "application/vnd.databricks.v1+cell": {
     "cellMetadata": {
      "byteLimit": 2048000,
      "rowLimit": 10000
     },
     "inputWidgets": {},
     "nuid": "87b68cf8-572b-4bbe-b20a-fe9d9062f074",
     "showTitle": false,
     "title": ""
    }
   },
   "outputs": [
    {
     "output_type": "stream",
     "name": "stdout",
     "output_type": "stream",
     "text": [
      "Out[39]: pyspark.ml.feature.VectorAssembler"
     ]
    }
   ],
   "source": [
    "# checking the type of the vec.\n",
    "type(vec)"
   ]
  },
  {
   "cell_type": "code",
   "execution_count": 0,
   "metadata": {
    "application/vnd.databricks.v1+cell": {
     "cellMetadata": {
      "byteLimit": 2048000,
      "rowLimit": 10000
     },
     "inputWidgets": {},
     "nuid": "f9c3cf73-e00d-4e7c-8db2-57583b2e8a30",
     "showTitle": false,
     "title": ""
    }
   },
   "outputs": [
    {
     "output_type": "stream",
     "name": "stdout",
     "output_type": "stream",
     "text": [
      "Out[40]: DataFrame[Dependents: int, ApplicantIncome: int, CoapplicantIncome: int, LoanAmount: int, Loan_Amount_Term_filled: int, Credit_History_filled: int, LoanAmount_filled: int, Education_numeric: int, Loan_Status_numeric: int, features: vector]"
     ]
    }
   ],
   "source": [
    "# transforming the model.\n",
    "vec.transform(df)"
   ]
  },
  {
   "cell_type": "code",
   "execution_count": 0,
   "metadata": {
    "application/vnd.databricks.v1+cell": {
     "cellMetadata": {
      "byteLimit": 2048000,
      "rowLimit": 10000
     },
     "inputWidgets": {},
     "nuid": "61f2261a-a7a6-49a3-8254-c7ff83b0f23c",
     "showTitle": false,
     "title": ""
    }
   },
   "outputs": [],
   "source": [
    "# train test split.\n",
    "train_df,test_df=df.randomSplit(weights=[0.8,0.2],seed=2023)"
   ]
  },
  {
   "cell_type": "code",
   "execution_count": 0,
   "metadata": {
    "application/vnd.databricks.v1+cell": {
     "cellMetadata": {
      "byteLimit": 2048000,
      "rowLimit": 10000
     },
     "inputWidgets": {},
     "nuid": "b669be0e-9a6e-4541-b298-b8deb428c672",
     "showTitle": false,
     "title": ""
    }
   },
   "outputs": [
    {
     "output_type": "stream",
     "name": "stdout",
     "output_type": "stream",
     "text": [
      "+----------+---------------+-----------------+----------+-----------------------+---------------------+-----------------+-----------------+-------------------+\n|Dependents|ApplicantIncome|CoapplicantIncome|LoanAmount|Loan_Amount_Term_filled|Credit_History_filled|LoanAmount_filled|Education_numeric|Loan_Status_numeric|\n+----------+---------------+-----------------+----------+-----------------------+---------------------+-----------------+-----------------+-------------------+\n|         0|            150|             1800|       135|                    360|                    1|              135|                0|                  1|\n|         0|            645|             3683|       113|                    480|                    1|              113|                0|                  0|\n|         0|            674|             5296|       168|                    360|                    1|              168|                0|                  0|\n|         0|           1025|             2773|       112|                    360|                    1|              112|                0|                  0|\n|         0|           1025|             5500|       216|                    360|                    1|              216|                0|                  0|\n|         0|           1442|                0|        35|                    360|                    1|               35|                1|                  1|\n|         0|           1500|             1800|       103|                    360|                    0|              103|                0|                  1|\n|         0|           1668|             3890|       201|                    360|                    0|              201|                1|                  1|\n|         0|           1759|             3541|       131|                    360|                    1|              131|                0|                  0|\n|         0|           1800|             2934|        93|                    360|                    0|               93|                1|                  1|\n|         0|           1809|             1868|        90|                    360|                    1|               90|                0|                  0|\n|         0|           1811|             1666|        54|                    360|                    1|               54|                0|                  0|\n|         0|           1820|             1719|       100|                    360|                    1|              100|                0|                  0|\n|         0|           1820|             1769|        95|                    360|                    1|               95|                1|                  0|\n|         0|           1828|             1330|       100|                    360|                    0|              100|                0|                  1|\n|         0|           1836|            33837|        90|                    360|                    1|               90|                0|                  1|\n|         0|           1853|             2840|       114|                    360|                    1|              114|                0|                  1|\n|         0|           1863|             1041|        98|                    360|                    1|               98|                1|                  0|\n|         0|           1916|             5063|        67|                    360|                    1|               67|                0|                  1|\n|         0|           1926|             1851|        50|                    360|                    1|               50|                0|                  0|\n+----------+---------------+-----------------+----------+-----------------------+---------------------+-----------------+-----------------+-------------------+\nonly showing top 20 rows\n\n"
     ]
    }
   ],
   "source": [
    "# viewing train dataframe.\n",
    "train_df.show()"
   ]
  },
  {
   "cell_type": "code",
   "execution_count": 0,
   "metadata": {
    "application/vnd.databricks.v1+cell": {
     "cellMetadata": {
      "byteLimit": 2048000,
      "rowLimit": 10000
     },
     "inputWidgets": {},
     "nuid": "d6f9f9ba-fbf1-43a6-b62c-67cf3b440c08",
     "showTitle": false,
     "title": ""
    }
   },
   "outputs": [
    {
     "output_type": "stream",
     "name": "stdout",
     "output_type": "stream",
     "text": [
      "+----------+---------------+-----------------+----------+-----------------------+---------------------+-----------------+-----------------+-------------------+\n|Dependents|ApplicantIncome|CoapplicantIncome|LoanAmount|Loan_Amount_Term_filled|Credit_History_filled|LoanAmount_filled|Education_numeric|Loan_Status_numeric|\n+----------+---------------+-----------------+----------+-----------------------+---------------------+-----------------+-----------------+-------------------+\n|         0|           1800|             1213|        47|                    360|                    1|               47|                0|                  0|\n|         0|           1907|             2365|       120|                    360|                    1|              120|                1|                  0|\n|         0|           2130|             6666|        70|                    180|                    1|               70|                0|                  1|\n|         0|           2378|                0|         9|                    360|                    1|                9|                0|                  1|\n|         0|           2383|             2138|        58|                    360|                    1|               58|                0|                  0|\n|         0|           2400|                0|        75|                    360|                    1|               75|                0|                  0|\n|         0|           2454|             2333|       181|                    360|                    0|              181|                1|                  1|\n|         0|           2473|             1843|       159|                    360|                    1|              159|                0|                  1|\n|         0|           2483|             2466|        90|                    180|                    0|               90|                0|                  0|\n|         0|           2500|             3796|       120|                    360|                    1|              120|                0|                  0|\n|         0|           2645|             3440|       120|                    360|                    0|              120|                0|                  1|\n|         0|           2698|             2034|       122|                    360|                    1|              122|                0|                  0|\n|         0|           2699|             2785|        96|                    360|                    1|               96|                1|                  0|\n|         0|           2755|                0|        65|                    300|                    1|               65|                1|                  1|\n|         0|           2764|             1459|       110|                    360|                    1|              110|                0|                  0|\n|         0|           2799|             2253|       122|                    360|                    1|              122|                0|                  0|\n|         0|           2894|             2792|       155|                    360|                    1|              155|                1|                  0|\n|         0|           2917|                0|        84|                    360|                    1|               84|                0|                  0|\n|         0|           2917|              536|        66|                    360|                    1|               66|                1|                  1|\n|         0|           2927|             2405|       111|                    360|                    1|              111|                1|                  0|\n+----------+---------------+-----------------+----------+-----------------------+---------------------+-----------------+-----------------+-------------------+\nonly showing top 20 rows\n\n"
     ]
    }
   ],
   "source": [
    "# viewing test dataframe.\n",
    "test_df.show()"
   ]
  },
  {
   "cell_type": "code",
   "execution_count": 0,
   "metadata": {
    "application/vnd.databricks.v1+cell": {
     "cellMetadata": {
      "byteLimit": 2048000,
      "rowLimit": 10000
     },
     "inputWidgets": {},
     "nuid": "e320cc74-aa20-46c2-901b-c0651f631f23",
     "showTitle": false,
     "title": ""
    }
   },
   "outputs": [],
   "source": [
    "# Objectizing the Lineat Regression.\n",
    "lr=LogisticRegression(featuresCol=\"features\",labelCol=\"Loan_Status_numeric\")\n"
   ]
  },
  {
   "cell_type": "code",
   "execution_count": 0,
   "metadata": {
    "application/vnd.databricks.v1+cell": {
     "cellMetadata": {
      "byteLimit": 2048000,
      "rowLimit": 10000
     },
     "inputWidgets": {},
     "nuid": "5255334a-87bf-4c7a-b922-499231f21e07",
     "showTitle": false,
     "title": ""
    }
   },
   "outputs": [],
   "source": [
    "# Creating the pipeline.\n",
    "pl=Pipeline(stages=[vec,lr])"
   ]
  },
  {
   "cell_type": "code",
   "execution_count": 0,
   "metadata": {
    "application/vnd.databricks.v1+cell": {
     "cellMetadata": {
      "byteLimit": 2048000,
      "rowLimit": 10000
     },
     "inputWidgets": {},
     "nuid": "222a0306-703c-490d-8218-1a4dbeab6cf7",
     "showTitle": false,
     "title": ""
    }
   },
   "outputs": [],
   "source": [
    "# droping the null values if any.\n",
    "train_df=train_df.na.drop(how='any')"
   ]
  },
  {
   "cell_type": "code",
   "execution_count": 0,
   "metadata": {
    "application/vnd.databricks.v1+cell": {
     "cellMetadata": {
      "byteLimit": 2048000,
      "rowLimit": 10000
     },
     "inputWidgets": {},
     "nuid": "9d2beb12-aded-442d-8226-6e69b2906b62",
     "showTitle": false,
     "title": ""
    }
   },
   "outputs": [
    {
     "output_type": "stream",
     "name": "stdout",
     "output_type": "stream",
     "text": [
      "Out[49]: 429"
     ]
    }
   ],
   "source": [
    "# counting the rows in train dataframe.\n",
    "train_df.count()"
   ]
  },
  {
   "cell_type": "code",
   "execution_count": 0,
   "metadata": {
    "application/vnd.databricks.v1+cell": {
     "cellMetadata": {
      "byteLimit": 2048000,
      "rowLimit": 10000
     },
     "inputWidgets": {},
     "nuid": "fb04fd75-6ab8-45a7-b5cb-4800b5976ac3",
     "showTitle": false,
     "title": ""
    }
   },
   "outputs": [
    {
     "output_type": "stream",
     "name": "stdout",
     "output_type": "stream",
     "text": [
      "Out[50]: 103"
     ]
    }
   ],
   "source": [
    "# counting the null values in the test dataframe.\n",
    "test_df.count()"
   ]
  },
  {
   "cell_type": "code",
   "execution_count": 0,
   "metadata": {
    "application/vnd.databricks.v1+cell": {
     "cellMetadata": {
      "byteLimit": 2048000,
      "rowLimit": 10000
     },
     "inputWidgets": {},
     "nuid": "25f8ed62-d12a-49ca-9d39-20b5a857eeb4",
     "showTitle": false,
     "title": ""
    }
   },
   "outputs": [],
   "source": [
    "# droping the null values if any from test dataframe.\n",
    "test_df=test_df.na.drop(how='any')"
   ]
  },
  {
   "cell_type": "code",
   "execution_count": 0,
   "metadata": {
    "application/vnd.databricks.v1+cell": {
     "cellMetadata": {
      "byteLimit": 2048000,
      "rowLimit": 10000
     },
     "inputWidgets": {},
     "nuid": "146633cb-4114-41f8-82e2-c189a6529765",
     "showTitle": false,
     "title": ""
    }
   },
   "outputs": [
    {
     "output_type": "stream",
     "name": "stdout",
     "output_type": "stream",
     "text": [
      "Out[52]: 101"
     ]
    }
   ],
   "source": [
    "# counting the rows in the test dataframe.\n",
    "test_df.count()"
   ]
  },
  {
   "cell_type": "code",
   "execution_count": 0,
   "metadata": {
    "application/vnd.databricks.v1+cell": {
     "cellMetadata": {
      "byteLimit": 2048000,
      "rowLimit": 10000
     },
     "inputWidgets": {},
     "nuid": "3a42424b-24a5-4a75-bfea-642d7551fbe3",
     "showTitle": false,
     "title": ""
    }
   },
   "outputs": [],
   "source": [
    "# fitting the pipeline model.\n",
    "pipeline_model=pl.fit(train_df)"
   ]
  },
  {
   "cell_type": "code",
   "execution_count": 0,
   "metadata": {
    "application/vnd.databricks.v1+cell": {
     "cellMetadata": {
      "byteLimit": 2048000,
      "rowLimit": 10000
     },
     "inputWidgets": {},
     "nuid": "879d1f05-4d68-4b70-8333-a4c30a3ba79c",
     "showTitle": false,
     "title": ""
    }
   },
   "outputs": [],
   "source": [
    "# transforming the model and creating  a dataset with the final prediction.\n",
    "pred_df=pipeline_model.transform(test_df)"
   ]
  },
  {
   "cell_type": "code",
   "execution_count": 0,
   "metadata": {
    "application/vnd.databricks.v1+cell": {
     "cellMetadata": {
      "byteLimit": 2048000,
      "rowLimit": 10000
     },
     "inputWidgets": {},
     "nuid": "73fedb5f-e22e-475d-b438-459fc03e9a24",
     "showTitle": false,
     "title": ""
    }
   },
   "outputs": [
    {
     "output_type": "stream",
     "name": "stdout",
     "output_type": "stream",
     "text": [
      "+----------+---------------+-----------------+----------+-----------------------+---------------------+-----------------+-----------------+-------------------+--------------------+--------------------+--------------------+----------+\n|Dependents|ApplicantIncome|CoapplicantIncome|LoanAmount|Loan_Amount_Term_filled|Credit_History_filled|LoanAmount_filled|Education_numeric|Loan_Status_numeric|            features|       rawPrediction|         probability|prediction|\n+----------+---------------+-----------------+----------+-----------------------+---------------------+-----------------+-----------------+-------------------+--------------------+--------------------+--------------------+----------+\n|         0|           1800|             1213|        47|                    360|                    1|               47|                0|                  0|[0.0,1800.0,1213....|[1.43703201082445...|[0.80799462049798...|       0.0|\n|         0|           1907|             2365|       120|                    360|                    1|              120|                1|                  0|[0.0,1907.0,2365....|[1.18565687282365...|[0.76596339969287...|       0.0|\n|         0|           2130|             6666|        70|                    180|                    1|               70|                0|                  1|[0.0,2130.0,6666....|[1.56268132596008...|[0.82673776918070...|       0.0|\n|         0|           2378|                0|         9|                    360|                    1|                9|                0|                  1|[0.0,2378.0,0.0,9...|[1.51791563004569...|[0.82023134142831...|       0.0|\n|         0|           2383|             2138|        58|                    360|                    1|               58|                0|                  0|[0.0,2383.0,2138....|[1.39177773486705...|[0.80087589674412...|       0.0|\n|         0|           2400|                0|        75|                    360|                    1|               75|                0|                  0|[0.0,2400.0,0.0,7...|[1.42949926040345...|[0.80682328274758...|       0.0|\n|         0|           2454|             2333|       181|                    360|                    0|              181|                1|                  1|[0.0,2454.0,2333....|[-2.8933761851938...|[0.05248197490137...|       1.0|\n|         0|           2473|             1843|       159|                    360|                    1|              159|                0|                  1|[0.0,2473.0,1843....|[1.26441369554837...|[0.77978496509712...|       0.0|\n|         0|           2483|             2466|        90|                    180|                    0|               90|                0|                  0|[0.0,2483.0,2466....|[-2.3419859577932...|[0.08770488274879...|       1.0|\n|         0|           2500|             3796|       120|                    360|                    1|              120|                0|                  0|[0.0,2500.0,3796....|[1.26102445370754...|[0.77920241136888...|       0.0|\n|         0|           2645|             3440|       120|                    360|                    0|              120|                0|                  1|[0.0,2645.0,3440....|[-2.7242714893679...|[0.06155625218696...|       1.0|\n|         0|           2698|             2034|       122|                    360|                    1|              122|                0|                  0|[0.0,2698.0,2034....|[1.30680343755559...|[0.78697776371397...|       0.0|\n|         0|           2699|             2785|        96|                    360|                    1|               96|                1|                  0|[0.0,2699.0,2785....|[1.19995800247176...|[0.76851731228796...|       0.0|\n|         0|           2755|                0|        65|                    300|                    1|               65|                1|                  1|[0.0,2755.0,0.0,6...|[1.42436181908805...|[0.80602130146230...|       0.0|\n|         0|           2764|             1459|       110|                    360|                    1|              110|                0|                  0|[0.0,2764.0,1459....|[1.33865103388933...|[0.79226801692831...|       0.0|\n|         0|           2799|             2253|       122|                    360|                    1|              122|                0|                  0|[0.0,2799.0,2253....|[1.29984697752191...|[0.78580922848364...|       0.0|\n|         0|           2894|             2792|       155|                    360|                    1|              155|                1|                  0|[0.0,2894.0,2792....|[1.11941681246320...|[0.75388052512652...|       0.0|\n|         0|           2917|                0|        84|                    360|                    1|               84|                0|                  0|[0.0,2917.0,0.0,8...|[1.41361981557344...|[0.80433625585094...|       0.0|\n|         0|           2917|              536|        66|                    360|                    1|               66|                1|                  1|[0.0,2917.0,536.0...|[1.30217648844444...|[0.78620105460001...|       0.0|\n|         0|           2927|             2405|       111|                    360|                    1|              111|                1|                  0|[0.0,2927.0,2405....|[1.18897211110636...|[0.76655717671532...|       0.0|\n+----------+---------------+-----------------+----------+-----------------------+---------------------+-----------------+-----------------+-------------------+--------------------+--------------------+--------------------+----------+\nonly showing top 20 rows\n\n"
     ]
    }
   ],
   "source": [
    "# viewing the predicted dataframe.\n",
    "pred_df.show()"
   ]
  },
  {
   "cell_type": "code",
   "execution_count": 0,
   "metadata": {
    "application/vnd.databricks.v1+cell": {
     "cellMetadata": {
      "byteLimit": 2048000,
      "rowLimit": 10000
     },
     "inputWidgets": {},
     "nuid": "9de8556c-b36c-44f3-90ff-4cf9a6daa87d",
     "showTitle": false,
     "title": ""
    }
   },
   "outputs": [],
   "source": [
    "# creating a \"label\" column as the copy of \"prediction\" column. \n",
    "pred_df=pred_df.withColumn(\"label\",pred_df['prediction'])"
   ]
  },
  {
   "cell_type": "code",
   "execution_count": 0,
   "metadata": {
    "application/vnd.databricks.v1+cell": {
     "cellMetadata": {
      "byteLimit": 2048000,
      "rowLimit": 10000
     },
     "inputWidgets": {},
     "nuid": "51ced19d-7868-475f-ae1c-1e16aeb70856",
     "showTitle": false,
     "title": ""
    }
   },
   "outputs": [
    {
     "output_type": "stream",
     "name": "stdout",
     "output_type": "stream",
     "text": [
      "+----------+---------------+-----------------+----------+-----------------------+---------------------+-----------------+-----------------+-------------------+--------------------+--------------------+--------------------+----------+-----+\n|Dependents|ApplicantIncome|CoapplicantIncome|LoanAmount|Loan_Amount_Term_filled|Credit_History_filled|LoanAmount_filled|Education_numeric|Loan_Status_numeric|            features|       rawPrediction|         probability|prediction|label|\n+----------+---------------+-----------------+----------+-----------------------+---------------------+-----------------+-----------------+-------------------+--------------------+--------------------+--------------------+----------+-----+\n|         0|           1800|             1213|        47|                    360|                    1|               47|                0|                  0|[0.0,1800.0,1213....|[1.43703201082445...|[0.80799462049798...|       0.0|  0.0|\n|         0|           1907|             2365|       120|                    360|                    1|              120|                1|                  0|[0.0,1907.0,2365....|[1.18565687282365...|[0.76596339969287...|       0.0|  0.0|\n|         0|           2130|             6666|        70|                    180|                    1|               70|                0|                  1|[0.0,2130.0,6666....|[1.56268132596008...|[0.82673776918070...|       0.0|  0.0|\n|         0|           2378|                0|         9|                    360|                    1|                9|                0|                  1|[0.0,2378.0,0.0,9...|[1.51791563004569...|[0.82023134142831...|       0.0|  0.0|\n|         0|           2383|             2138|        58|                    360|                    1|               58|                0|                  0|[0.0,2383.0,2138....|[1.39177773486705...|[0.80087589674412...|       0.0|  0.0|\n|         0|           2400|                0|        75|                    360|                    1|               75|                0|                  0|[0.0,2400.0,0.0,7...|[1.42949926040345...|[0.80682328274758...|       0.0|  0.0|\n|         0|           2454|             2333|       181|                    360|                    0|              181|                1|                  1|[0.0,2454.0,2333....|[-2.8933761851938...|[0.05248197490137...|       1.0|  1.0|\n|         0|           2473|             1843|       159|                    360|                    1|              159|                0|                  1|[0.0,2473.0,1843....|[1.26441369554837...|[0.77978496509712...|       0.0|  0.0|\n|         0|           2483|             2466|        90|                    180|                    0|               90|                0|                  0|[0.0,2483.0,2466....|[-2.3419859577932...|[0.08770488274879...|       1.0|  1.0|\n|         0|           2500|             3796|       120|                    360|                    1|              120|                0|                  0|[0.0,2500.0,3796....|[1.26102445370754...|[0.77920241136888...|       0.0|  0.0|\n|         0|           2645|             3440|       120|                    360|                    0|              120|                0|                  1|[0.0,2645.0,3440....|[-2.7242714893679...|[0.06155625218696...|       1.0|  1.0|\n|         0|           2698|             2034|       122|                    360|                    1|              122|                0|                  0|[0.0,2698.0,2034....|[1.30680343755559...|[0.78697776371397...|       0.0|  0.0|\n|         0|           2699|             2785|        96|                    360|                    1|               96|                1|                  0|[0.0,2699.0,2785....|[1.19995800247176...|[0.76851731228796...|       0.0|  0.0|\n|         0|           2755|                0|        65|                    300|                    1|               65|                1|                  1|[0.0,2755.0,0.0,6...|[1.42436181908805...|[0.80602130146230...|       0.0|  0.0|\n|         0|           2764|             1459|       110|                    360|                    1|              110|                0|                  0|[0.0,2764.0,1459....|[1.33865103388933...|[0.79226801692831...|       0.0|  0.0|\n|         0|           2799|             2253|       122|                    360|                    1|              122|                0|                  0|[0.0,2799.0,2253....|[1.29984697752191...|[0.78580922848364...|       0.0|  0.0|\n|         0|           2894|             2792|       155|                    360|                    1|              155|                1|                  0|[0.0,2894.0,2792....|[1.11941681246320...|[0.75388052512652...|       0.0|  0.0|\n|         0|           2917|                0|        84|                    360|                    1|               84|                0|                  0|[0.0,2917.0,0.0,8...|[1.41361981557344...|[0.80433625585094...|       0.0|  0.0|\n|         0|           2917|              536|        66|                    360|                    1|               66|                1|                  1|[0.0,2917.0,536.0...|[1.30217648844444...|[0.78620105460001...|       0.0|  0.0|\n|         0|           2927|             2405|       111|                    360|                    1|              111|                1|                  0|[0.0,2927.0,2405....|[1.18897211110636...|[0.76655717671532...|       0.0|  0.0|\n+----------+---------------+-----------------+----------+-----------------------+---------------------+-----------------+-----------------+-------------------+--------------------+--------------------+--------------------+----------+-----+\nonly showing top 20 rows\n\n"
     ]
    }
   ],
   "source": [
    "# viewing the dataframe.\n",
    "pred_df.show()"
   ]
  },
  {
   "cell_type": "code",
   "execution_count": 0,
   "metadata": {
    "application/vnd.databricks.v1+cell": {
     "cellMetadata": {
      "byteLimit": 2048000,
      "rowLimit": 10000
     },
     "inputWidgets": {},
     "nuid": "56d96977-8412-4196-ad3f-63d7b7ec5511",
     "showTitle": false,
     "title": ""
    }
   },
   "outputs": [
    {
     "output_type": "stream",
     "name": "stdout",
     "output_type": "stream",
     "text": [
      "Out[59]: pyspark.ml.classification.LogisticRegressionModel"
     ]
    }
   ],
   "source": [
    "# checking the type of model.\n",
    "type(pipeline_model.stages[-1])"
   ]
  },
  {
   "cell_type": "code",
   "execution_count": 0,
   "metadata": {
    "application/vnd.databricks.v1+cell": {
     "cellMetadata": {
      "byteLimit": 2048000,
      "rowLimit": 10000
     },
     "inputWidgets": {},
     "nuid": "c81c55c1-985e-4280-9621-c98a7af6474f",
     "showTitle": false,
     "title": ""
    }
   },
   "outputs": [],
   "source": [
    "# objectizing the BinaryClassificationEvaluator.\n",
    "bce=BinaryClassificationEvaluator(metricName=\"areaUnderROC\")"
   ]
  },
  {
   "cell_type": "code",
   "execution_count": 0,
   "metadata": {
    "application/vnd.databricks.v1+cell": {
     "cellMetadata": {
      "byteLimit": 2048000,
      "rowLimit": 10000
     },
     "inputWidgets": {},
     "nuid": "a06c5d32-db56-4617-ad12-385bc174e664",
     "showTitle": false,
     "title": ""
    }
   },
   "outputs": [
    {
     "output_type": "stream",
     "name": "stdout",
     "output_type": "stream",
     "text": [
      "1.0"
     ]
    }
   ],
   "source": [
    "# checking for the AreaUnderCurve score.\n",
    "display(bce.evaluate(pred_df))"
   ]
  },
  {
   "cell_type": "code",
   "execution_count": 0,
   "metadata": {
    "application/vnd.databricks.v1+cell": {
     "cellMetadata": {
      "byteLimit": 2048000,
      "rowLimit": 10000
     },
     "inputWidgets": {},
     "nuid": "f16ffb5e-76e2-4415-99bf-c8a2f0580a0f",
     "showTitle": false,
     "title": ""
    }
   },
   "outputs": [],
   "source": [
    "# objectizing the MulticlassClassificationEvaluator.\n",
    "mce=MulticlassClassificationEvaluator(metricName='accuracy')"
   ]
  },
  {
   "cell_type": "code",
   "execution_count": 0,
   "metadata": {
    "application/vnd.databricks.v1+cell": {
     "cellMetadata": {
      "byteLimit": 2048000,
      "rowLimit": 10000
     },
     "inputWidgets": {},
     "nuid": "42140f25-a95d-48f9-80d1-83a91bc5df23",
     "showTitle": false,
     "title": ""
    }
   },
   "outputs": [
    {
     "output_type": "stream",
     "name": "stdout",
     "output_type": "stream",
     "text": [
      "1.0"
     ]
    }
   ],
   "source": [
    "# checking for the accuracy score.\n",
    "display(mce.evaluate(pred_df))\n"
   ]
  },
  {
   "cell_type": "code",
   "execution_count": 0,
   "metadata": {
    "application/vnd.databricks.v1+cell": {
     "cellMetadata": {
      "byteLimit": 2048000,
      "rowLimit": 10000
     },
     "inputWidgets": {},
     "nuid": "df04a885-4a43-4942-b206-e6bd0ceedca7",
     "showTitle": false,
     "title": ""
    }
   },
   "outputs": [],
   "source": [
    "# creating the summary of the model.\n",
    "training_summary=pipeline_model.stages[-1].summary"
   ]
  },
  {
   "cell_type": "code",
   "execution_count": 0,
   "metadata": {
    "application/vnd.databricks.v1+cell": {
     "cellMetadata": {
      "byteLimit": 2048000,
      "rowLimit": 10000
     },
     "inputWidgets": {},
     "nuid": "566a152a-ff86-4758-bbe4-188ceee90f80",
     "showTitle": false,
     "title": ""
    }
   },
   "outputs": [],
   "source": [
    "# creating and converting the summary to pandas for drawing the ROC curve.\n",
    "roc = training_summary.roc.toPandas()"
   ]
  },
  {
   "cell_type": "code",
   "execution_count": 0,
   "metadata": {
    "application/vnd.databricks.v1+cell": {
     "cellMetadata": {
      "byteLimit": 2048000,
      "rowLimit": 10000
     },
     "inputWidgets": {},
     "nuid": "329e8125-f8d2-4fbe-9141-cf02fbf700b3",
     "showTitle": false,
     "title": ""
    }
   },
   "outputs": [
    {
     "output_type": "display_data",
     "data": {
      "image/png": "[encoded data removed]"
     },
     "metadata": {
      "application/vnd.databricks.v1+output": {
       "addedWidgets": {},
       "arguments": {},
       "data": "data:image/png;base64,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\n",
       "datasetInfos": [],
       "metadata": {},
       "removedWidgets": [],
       "type": "image"
      }
     },
     "output_type": "display_data"
    }
   ],
   "source": [
    "# Plotting the ROC curve.\n",
    "plt.plot(roc['FPR'],roc['TPR'])\n",
    "plt.ylabel(\"False Positive Rate\")\n",
    "plt.xlabel(\"True Positive Rate\")\n",
    "plt.title(\"ROC Curve\")\n",
    "plt.show()"
   ]
  }
 ],
 "metadata": {
  "application/vnd.databricks.v1+notebook": {
   "dashboards": [],
   "language": "python",
   "notebookMetadata": {
    "pythonIndentUnit": 4
   },
   "notebookName": "Loan_Approval_Prediction_Using_PySpark_And_Databricks_Project_By_Nikhil",
   "widgets": {}
  }
 },
 "nbformat": 4,
 "nbformat_minor": 0
}
